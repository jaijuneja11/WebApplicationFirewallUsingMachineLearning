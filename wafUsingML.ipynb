from sklearn.feature_extraction.text import TfidfVectorizer
import os
from sklearn.model_selection import train_test_split
from sklearn.linear_model import LogisticRegression
from sklearn import metrics
import urllib.parse

import matplotlib.pyplot as plt

def loadFile(name):
    directory = os.getcwd()
    filepath = os.path.join(directory, name)
    with open(filepath, 'r', encoding='utf-8') as f:
        data = f.readlines()
    data = list(set(data))
    result = []
    for d in data:
        d = str(urllib.parse.unquote(d))   #converting url encoded data to simple string
        result.append(d)
    return result

def test_custom_queries(customQueries, vectorizer, lgs):
    # Vectorize custom queries
    X_custom = vectorizer.transform(customQueries)

    # Make predictions
    predicted_custom = lgs.predict(X_custom)

    # Print the predictions
    for i, query in enumerate(customQueries):
        if predicted_custom[i] == 1:
            print(f"Query '{query.strip()}' is predicted as MALICIOUS")
        else:
            print(f"Query '{query.strip()}' is predicted as BENIGN")

badQueries = loadFile('badQueries.txt')
validQueries = loadFile('goodQueries.txt')

badQueries = list(set(badQueries))
validQueries = list(set(validQueries))
allQueries = badQueries + validQueries
yBad = [1 for i in range(0, len(badQueries))]  #labels, 1 for malicious and 0 for clean
yGood = [0 for i in range(0, len(validQueries))]
y = yBad + yGood
queries = allQueries

vectorizer = TfidfVectorizer(min_df = 0.0, analyzer="char", sublinear_tf=True, ngram_range=(1,3)) #converting data to vectors
X = vectorizer.fit_transform(queries)

X_train, X_test, y_train, y_test = train_test_split(X, y, test_size=0.2, random_state=42) #splitting data

badCount = len(badQueries)
validCount = len(validQueries)

lgs = LogisticRegression(class_weight={1: 2 * validCount / badCount, 0: 1.0}) # class_weight='balanced')
lgs.fit(X_train, y_train) #training our model

##############
# Evaluation #
##############

predicted = lgs.predict(X_test)

fpr, tpr, _ = metrics.roc_curve(y_test, (lgs.predict_proba(X_test)[:, 1]))
auc = metrics.auc(fpr, tpr)

print("Bad samples: %d" % badCount)
print("Good samples: %d" % validCount)
print("Baseline Constant negative: %.6f" % (validCount / (validCount + badCount)))
print("------------")
print("Accuracy: %f" % lgs.score(X_test, y_test))  #checking the accuracy
print("Precision: %f" % metrics.precision_score(y_test, predicted))
print("Recall: %f" % metrics.recall_score(y_test, predicted))
print("F1-Score: %f" % metrics.f1_score(y_test, predicted))
print("AUC: %f" % auc)
print("------------")

# Load custom queries
# customQueries = loadFile('customQueries.txt') 

# Test custom queries
# test_custom_queries(customQueries, vectorizer, lgs)
C:\Users\TEJA\anaconda3\lib\site-packages\sklearn\linear_model\_logistic.py:458: ConvergenceWarning: lbfgs failed to converge (status=1):
STOP: TOTAL NO. of ITERATIONS REACHED LIMIT.

Increase the number of iterations (max_iter) or scale the data as shown in:
    https://scikit-learn.org/stable/modules/preprocessing.html
Please also refer to the documentation for alternative solver options:
    https://scikit-learn.org/stable/modules/linear_model.html#logistic-regression
  n_iter_i = _check_optimize_result(
Bad samples: 44532
Good samples: 247324
Baseline Constant negative: 0.847418
------------
Accuracy: 0.996882
Precision: 0.982797
Recall: 0.996960
F1-Score: 0.989828
AUC: 0.999838
------------
from sklearn.feature_extraction.text import TfidfVectorizer
import os
from sklearn.linear_model import LogisticRegression
from sklearn import metrics
import urllib.parse

def loadFile(name):
    directory = os.getcwd()
    filepath = os.path.join(directory, name)
    with open(filepath, 'r', encoding='utf-8') as f:
        data = f.readlines()
    data = list(set(data))
    result = []
    for d in data:
        d = str(urllib.parse.unquote(d))   # Converting URL encoded data to simple string
        result.append(d)
    return result

def test_custom_queries(customQueries, vectorizer, lgs):
    # Vectorize custom queries
    X_custom = vectorizer.transform(customQueries)

    # Make predictions
    predicted_custom = lgs.predict(X_custom)

    # Print the predictions
    for i, query in enumerate(customQueries):
        if predicted_custom[i] == 1:
            print(f"Query '{query.strip()}' is predicted as MALICIOUS")
        else:
            print(f"Query '{query.strip()}' is predicted as BENIGN")

# Load custom queries
customQueries = loadFile('customQueries.txt')  # Adjust filename as per your custom queries file

# Test custom queries
test_custom_queries(customQueries, vectorizer, lgs)
Query '/103886/' is predicted as BENIGN
Query '/id;1627282494;fp;2;fpid;1/' is predicted as MALICIOUS
Query '/cclogovs/' is predicted as BENIGN
Query '/rcanimal/' is predicted as BENIGN
Query '/using-localization/' is predicted as BENIGN
Query '/examples/jsp/colors/workarea/contentdesigner/ekformsiframe.aspx?id="><script>alert('nessus')</script>' is predicted as MALICIOUS
Query '/bmeun223.exe?<meta http-equiv=set-cookie content="testhhwu=7044">' is predicted as MALICIOUS
Query '/<img src="javascript:alert(cross.nasl);">.do' is predicted as MALICIOUS
Query '/458010b88d9ce/' is predicted as BENIGN
Query '/htbin/windmail.exe' is predicted as MALICIOUS
 
 
